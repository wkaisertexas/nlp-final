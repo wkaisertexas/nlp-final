{
 "cells": [
  {
   "cell_type": "markdown",
   "metadata": {},
   "source": [
    "# Measuring Entropy in Text with a Quick Demonstration Script\n",
    "\n",
    "## Introduction\n",
    "\n",
    "Because Large Language Models (LLMs) fundamentally predict the next token, LLMs can be used as a measure of how \"shocking\" the next character is is pre-generated text.\n",
    "\n",
    "## Model Selection\n",
    "\n",
    "[Microsoft's Phi 1.5](https://huggingface.co/microsoft/phi-1_5) model will be used. No particular reason. The model is large enough to do the job which is nice."
   ]
  },
  {
   "cell_type": "code",
   "execution_count": 3,
   "metadata": {
    "_cell_guid": "b1076dfc-b9ad-4769-8c92-a6c4dae69d19",
    "_uuid": "8f2839f25d086af736a60e9eeb907d3b93b6e0e5",
    "trusted": true
   },
   "outputs": [
    {
     "name": "stderr",
     "output_type": "stream",
     "text": [
      "/Users/wkaiser/Coding/nlp-final/.venv/lib/python3.12/site-packages/tqdm/auto.py:21: TqdmWarning: IProgress not found. Please update jupyter and ipywidgets. See https://ipywidgets.readthedocs.io/en/stable/user_install.html\n",
      "  from .autonotebook import tqdm as notebook_tqdm\n"
     ]
    }
   ],
   "source": [
    "import numpy as np\n",
    "import pandas as pd\n",
    "import os\n",
    "from transformers import AutoModelForCausalLM, AutoTokenizer\n",
    "import torch\n",
    "import matplotlib.pyplot as plt\n",
    "from pathlib import Path"
   ]
  },
  {
   "cell_type": "code",
   "execution_count": 4,
   "metadata": {},
   "outputs": [],
   "source": [
    "with Path(\"../samples/chatgpt-narrative-economics.txt\").open() as f:\n",
    "    CHATGPT_TEXT = f.read()"
   ]
  },
  {
   "cell_type": "code",
   "execution_count": null,
   "metadata": {
    "trusted": true
   },
   "outputs": [],
   "source": [
    "torch.set_default_device(\"cuda\")\n",
    "\n",
    "if 'model' not in locals():\n",
    "    torch.cuda.empty_cache()\n",
    "    model = AutoModelForCausalLM.from_pretrained(\"microsoft/phi-1_5\", torch_dtype=\"auto\", trust_remote_code=True)\n",
    "if 'tokenizer' not in locals():\n",
    "    tokenizer = AutoTokenizer.from_pretrained(\"microsoft/phi-1_5\", trust_remote_code=True)"
   ]
  },
  {
   "cell_type": "code",
   "execution_count": null,
   "metadata": {
    "trusted": true
   },
   "outputs": [],
   "source": [
    "inputs = tokenizer(\n",
    "    CHATGPT_TEXT,\n",
    "    return_tensors=\"pt\",\n",
    "    return_attention_mask=False\n",
    ")\n",
    "inputs"
   ]
  },
  {
   "cell_type": "code",
   "execution_count": null,
   "metadata": {
    "trusted": true
   },
   "outputs": [],
   "source": [
    "from math import log\n",
    "from torch.amp import autocast\n",
    "\n",
    "# zeroing grad reduces memory usage\n",
    "for param in model.parameters():\n",
    "    param.grad = None\n",
    "\n",
    "def measure_losses(input_txt: str) -> tuple[float, list]:\n",
    "    \"\"\"\n",
    "    Measures the losses of a piece of text\n",
    "    \"\"\"\n",
    "    inputs = tokenizer(\n",
    "        input_txt,\n",
    "        return_tensors=\"pt\",\n",
    "        return_attention_mask=True\n",
    "    )\n",
    "    with autocast():\n",
    "        result = model.forward(**inputs)\n",
    "    \n",
    "    logits = result.logits\n",
    "    \n",
    "    new_res = torch.nn.functional.softmax(logits, dim=1)\n",
    "    \n",
    "    # correct\n",
    "    correct_res = torch.nn.functional.one_hot(inputs.input_ids, num_classes=51_200)\n",
    "    correct_res = correct_res.float()\n",
    "    \n",
    "    # making loss functions\n",
    "    loss = torch.nn.CrossEntropyLoss()\n",
    "    \n",
    "    setup = loss(logits, correct_res)\n",
    "    _ = setup.backward() # result is not needed\n",
    "    torch.cuda.empty_cache()\n",
    "    \n",
    "    # iteration through each vector\n",
    "    return_array = []\n",
    "    num_tokens = inputs.input_ids.shape[1]\n",
    "    for i in range(num_tokens):\n",
    "        index = int(inputs.input_ids[0, i].cpu())\n",
    "        \n",
    "        res = float(new_res[0, i, index])\n",
    "\n",
    "        if res > 0.00000001:\n",
    "            return_array.append(-1 * log(res))\n",
    "        else:\n",
    "            return_array.append(100)\n",
    "        \n",
    "    return inputs['input_ids'], return_array\n",
    "\n",
    "torch.cuda.empty_cache()\n",
    "chat_tokens, chat_entropy = measure_losses(CHATGPT_TEXT[1_000])"
   ]
  },
  {
   "cell_type": "code",
   "execution_count": null,
   "metadata": {
    "trusted": true
   },
   "outputs": [],
   "source": [
    "def sum_over_interval(entropy: list, window_size: int = 30) -> list:\n",
    "    \"\"\"\n",
    "    Calculates the sum of entropy over a token window size (likely to be much more stable)\n",
    "    \"\"\"\n",
    "\n",
    "    summed_entropies = []\n",
    "\n",
    "    curr_sum = 0.0\n",
    "    for idx, bits_of_info in enumerate(entropy):\n",
    "        if (idx + 1) % window_size == 0:\n",
    "            summed_entropies.append(curr_sum)\n",
    "            curr_sum = 0\n",
    "\n",
    "        curr_sum += bits_of_info\n",
    "\n",
    "    return summed_entropies\n",
    "    \n",
    "chat_entropy_totals = sum_over_interval(chat_entropy)\n",
    "\n",
    "fig, ax = plt.subplots()\n",
    "ax.plot([i for i in range(len(chat_entropy_totals))], chat_entropy_totals, label='chat')\n",
    "ax.legend()\n",
    "ax.set_ylim(0, max(chat_entropy_totals) * 1.1)\n",
    "ax.set_title(\"Entropy of a passage I wrote over time\")\n",
    "plt.show()"
   ]
  },
  {
   "cell_type": "code",
   "execution_count": null,
   "metadata": {
    "trusted": true
   },
   "outputs": [],
   "source": [
    "# running a fft on the information\n",
    "from scipy.fft import fft\n",
    "\n",
    "# Perform FFT\n",
    "fft_result = fft(chat_entropy)\n",
    "\n",
    "# Calculate the frequency axis\n",
    "freq = np.fft.fftfreq(len(fft_result), 1/len(chat_entropy))\n",
    "\n",
    "plt.subplot(2, 1, 1)\n",
    "plt.plot([i for i in range(len(chat_entropy))], chat_entropy)\n",
    "plt.title('Original Signal')\n",
    "\n",
    "plt.subplot(2, 1, 2)\n",
    "plt.plot(freq, np.abs(fft_result))\n",
    "plt.title('FFT of the Signal')\n",
    "\n",
    "plt.show()"
   ]
  },
  {
   "cell_type": "code",
   "execution_count": null,
   "metadata": {
    "trusted": true
   },
   "outputs": [],
   "source": [
    "# marking new lines\n",
    "ids = tokenizer(\n",
    "    \"\\n\",\n",
    "    return_tensors=\"pt\",\n",
    "    return_attention_mask=True\n",
    ").input_ids\n",
    "new_line = ids[0, 0]\n",
    "new_line\n",
    "\n",
    "ids = tokenizer(\n",
    "    \".\",\n",
    "    return_tensors=\"pt\",\n",
    "    return_attention_mask=True\n",
    ").input_ids\n",
    "period = ids[0, 0]\n",
    "\n",
    "# sum(inputs.input_ids == new_line).sum()\n",
    "tokenized_first_sent = tokenizer(\n",
    "    CHATGPT_TEXT,\n",
    "    return_tensors=\"pt\",\n",
    "    return_attention_mask=True\n",
    ").input_ids\n",
    "    \n",
    "new_line"
   ]
  },
  {
   "cell_type": "code",
   "execution_count": null,
   "metadata": {
    "trusted": true
   },
   "outputs": [],
   "source": [
    "# taking a rolling average of the data\n",
    "\n",
    "kernel = np.ones(18) / 18\n",
    "\n",
    "entropy_smoothed = np.convolve(chat_entropy, kernel, mode='valid')\n",
    "\n",
    "j = 0\n",
    "for i in tokenized_first_sent[0].cpu():\n",
    "#     print(i)\n",
    "    if i == new_line:\n",
    "        plt.axvline(x=j, color='r', linestyle='--')\n",
    "    if i == period:\n",
    "        plt.axvline(x=j, color='b', linestyle='--')\n",
    "    j += 1\n",
    "\n",
    "\n",
    "plt.plot([i for i in range(len(entropy_smoothed))], entropy_smoothed)\n",
    "plt.xlim(0, 200)\n",
    "plt.legend()\n",
    "plt.title('Original Signal')\n",
    "plt.show()\n",
    "\n",
    "print(\"Example text:\", CHATGPT_TEXT[:len(CHATGPT_TEXT) // 2])"
   ]
  },
  {
   "cell_type": "code",
   "execution_count": null,
   "metadata": {
    "trusted": true
   },
   "outputs": [],
   "source": [
    "inputs = tokenizer(\n",
    "    CHATGPT_TEXT[len(CHATGPT_TEXT) // 4:len(CHATGPT_TEXT) // 2],\n",
    "    return_tensors=\"pt\",\n",
    "    return_attention_mask=True\n",
    ")\n",
    "\n",
    "print(\"60-100:\", tokenizer.decode(inputs.input_ids[0, 180:240]))\n",
    "print(\"200-260:\", tokenizer.decode(inputs.input_ids[0, 200:260]))"
   ]
  },
  {
   "cell_type": "code",
   "execution_count": null,
   "metadata": {
    "trusted": true
   },
   "outputs": [],
   "source": [
    "torch.nn.functional.one_hot(inputs.input_ids, num_classes=51_200).shape"
   ]
  },
  {
   "cell_type": "markdown",
   "metadata": {},
   "source": [
    "## Measuring Entropy Using ZSTD\n",
    "\n",
    "This will be measured using the compression ratio, or how much the text can be compressed.\n",
    "\n",
    "- could potentially be inaccurate as longer pieces of text have lower entropy by default / quantization effects with the black-box algorithim which zstd is being treated as"
   ]
  },
  {
   "cell_type": "code",
   "execution_count": 1,
   "metadata": {},
   "outputs": [
    {
     "name": "stdout",
     "output_type": "stream",
     "text": [
      "Compression ratio 0.9398550724637681\n"
     ]
    },
    {
     "ename": "NameError",
     "evalue": "name 'CHATGPT_TEXT' is not defined",
     "output_type": "error",
     "traceback": [
      "\u001b[31m---------------------------------------------------------------------------\u001b[39m",
      "\u001b[31mNameError\u001b[39m                                 Traceback (most recent call last)",
      "\u001b[36mCell\u001b[39m\u001b[36m \u001b[39m\u001b[32mIn[1]\u001b[39m\u001b[32m, line 9\u001b[39m\n\u001b[32m      6\u001b[39m     \u001b[38;5;28mprint\u001b[39m(\u001b[33mf\u001b[39m\u001b[33m\"\u001b[39m\u001b[33mCompression ratio \u001b[39m\u001b[38;5;132;01m{\u001b[39;00m\u001b[32m1\u001b[39m\u001b[38;5;250m \u001b[39m-\u001b[38;5;250m \u001b[39m\u001b[38;5;28mlen\u001b[39m(compressed_result)\u001b[38;5;250m \u001b[39m/\u001b[38;5;250m \u001b[39m\u001b[38;5;28mlen\u001b[39m(input_str)\u001b[38;5;132;01m}\u001b[39;00m\u001b[33m\"\u001b[39m)\n\u001b[32m      8\u001b[39m print_compression_ratio(\u001b[33m\"\u001b[39m\u001b[33mI have some sample text which I want to compress with zstd compresoin\u001b[39m\u001b[33m\"\u001b[39m * \u001b[32m20\u001b[39m)\n\u001b[32m----> \u001b[39m\u001b[32m9\u001b[39m print_compression_ratio(\u001b[43mCHATGPT_TEXT\u001b[49m)\n",
      "\u001b[31mNameError\u001b[39m: name 'CHATGPT_TEXT' is not defined"
     ]
    }
   ],
   "source": [
    "import zstd\n",
    "\n",
    "def print_compression_ratio(input_str: str):\n",
    "    compressed_result = zstd.compress(input_str.encode(\"utf-8\"))\n",
    "\n",
    "    print(f\"Compression ratio {1 - len(compressed_result) / len(input_str)}\")\n",
    "\n",
    "print_compression_ratio(\"I have some sample text which I want to compress with zstd compresoin\" * 20)\n",
    "print_compression_ratio(CHATGPT_TEXT)"
   ]
  }
 ],
 "metadata": {
  "kaggle": {
   "accelerator": "gpu",
   "dataSources": [],
   "isGpuEnabled": true,
   "isInternetEnabled": true,
   "language": "python",
   "sourceType": "notebook"
  },
  "kernelspec": {
   "display_name": "nlp-final",
   "language": "python",
   "name": "python3"
  },
  "language_info": {
   "codemirror_mode": {
    "name": "ipython",
    "version": 3
   },
   "file_extension": ".py",
   "mimetype": "text/x-python",
   "name": "python",
   "nbconvert_exporter": "python",
   "pygments_lexer": "ipython3",
   "version": "3.12.8"
  }
 },
 "nbformat": 4,
 "nbformat_minor": 4
}
